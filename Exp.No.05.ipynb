{
 "cells": [
  {
   "cell_type": "markdown",
   "id": "162acbf4-9c5d-4baa-a1b6-b7a5a67b67a3",
   "metadata": {},
   "source": [
    "### Shifa  Shaikh 74\n",
    "\n",
    "### Exp 05\n"
   ]
  },
  {
   "cell_type": "markdown",
   "id": "85ffc776-1ab4-415a-ba3e-84a33d717a33",
   "metadata": {},
   "source": [
    "### Stack\n"
   ]
  },
  {
   "cell_type": "code",
   "execution_count": 4,
   "id": "cf0b9a16-e41d-4ba5-91c8-f4e124b8090d",
   "metadata": {},
   "outputs": [
    {
     "name": "stdout",
     "output_type": "stream",
     "text": [
      "Initial Stack\n",
      "['a', 'b', 'c']\n"
     ]
    }
   ],
   "source": [
    "stack = list ()\n",
    "\n",
    "# Append Operation\n",
    "stack.append ('a')\n",
    "stack.append ('b')\n",
    "stack.append ('c')\n",
    "print ('Initial Stack')\n",
    "print (stack)"
   ]
  },
  {
   "cell_type": "code",
   "execution_count": 5,
   "id": "2fb2d9dc-063d-431f-8775-2f92d3994bc3",
   "metadata": {},
   "outputs": [
    {
     "name": "stdout",
     "output_type": "stream",
     "text": [
      "c\n",
      "b\n",
      "a\n",
      "[]\n"
     ]
    }
   ],
   "source": [
    "# Pop Operation\n",
    "print (stack.pop ())\n",
    "print (stack.pop ())\n",
    "print (stack.pop ())\n",
    "print (stack)"
   ]
  },
  {
   "cell_type": "code",
   "execution_count": 13,
   "id": "081647fd-329c-46cb-8923-4207db0a39dc",
   "metadata": {},
   "outputs": [
    {
     "name": "stdout",
     "output_type": "stream",
     "text": [
      "3\n",
      "3\n",
      "3\n"
     ]
    }
   ],
   "source": [
    "class StackDepth:\n",
    "    def maximumDepth(self, stringInput: str) -> int:\n",
    "        current_depth = 0\n",
    "        max_depth = 0\n",
    "        for char in stringInput:\n",
    "            if char == '(':  # Opening parenthesis increases depth\n",
    "                current_depth += 1\n",
    "                max_depth = max(max_depth, current_depth)  # Update max depth if needed\n",
    "            elif char == ')':  # Closing parenthesis decreases depth\n",
    "                current_depth -= 1\n",
    "       \n",
    "        return max_depth\n",
    "stack_depth = StackDepth()\n",
    "\n",
    "# Test with example strings and print the results\n",
    "print(stack_depth.maximumDepth(\"(1+(2*3)+((8)/4))+1\"))  # Expected Output: 3\n",
    "print(stack_depth.maximumDepth(\"(1)+((2))+(((3)))\"))  # Expected Output: 3\n",
    "print(stack_depth.maximumDepth(\"()(())((()()))\"))  # Expected Output: 3\n"
   ]
  },
  {
   "cell_type": "code",
   "execution_count": null,
   "id": "1eed28e4-6ba4-4112-9135-54f0b331d236",
   "metadata": {},
   "outputs": [],
   "source": []
  }
 ],
 "metadata": {
  "kernelspec": {
   "display_name": "Python 3 (ipykernel)",
   "language": "python",
   "name": "python3"
  },
  "language_info": {
   "codemirror_mode": {
    "name": "ipython",
    "version": 3
   },
   "file_extension": ".py",
   "mimetype": "text/x-python",
   "name": "python",
   "nbconvert_exporter": "python",
   "pygments_lexer": "ipython3",
   "version": "3.13.1"
  }
 },
 "nbformat": 4,
 "nbformat_minor": 5
}
