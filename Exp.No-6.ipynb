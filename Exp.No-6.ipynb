{
 "cells": [
  {
   "cell_type": "markdown",
   "id": "0bb57a6a-142a-44ab-a727-7d4e9e064127",
   "metadata": {},
   "source": [
    "### Shifa Shaikh 74\n",
    "### Exp no 06"
   ]
  },
  {
   "cell_type": "markdown",
   "id": "9ebccf38-3cc0-40a3-b00c-f1315627d419",
   "metadata": {},
   "source": [
    "\n",
    "\n",
    "### Importing"
   ]
  },
  {
   "cell_type": "code",
   "execution_count": 1,
   "id": "82b20a5a-6095-4868-8b97-4653cfafab04",
   "metadata": {},
   "outputs": [],
   "source": [
    "import sqlite3"
   ]
  },
  {
   "cell_type": "markdown",
   "id": "0d324ce0-4097-4cb6-ac8c-87dbda368ed0",
   "metadata": {},
   "source": [
    "### Connecting to Database"
   ]
  },
  {
   "cell_type": "code",
   "execution_count": 2,
   "id": "ed2ae5e5-8e43-4fd5-87a5-49631794ccc4",
   "metadata": {},
   "outputs": [],
   "source": [
    "connection = sqlite3.connect ('./genericDatabase.db')\n",
    "cursor = connection.cursor ()"
   ]
  },
  {
   "cell_type": "markdown",
   "id": "8ed2c4af-7594-4724-b0f2-34e925d311e2",
   "metadata": {},
   "source": [
    "### Create Table"
   ]
  },
  {
   "cell_type": "code",
   "execution_count": 4,
   "id": "bbcfc060-de1a-4216-aacc-f52997a83fa1",
   "metadata": {},
   "outputs": [],
   "source": [
    "cursor.execute('''\n",
    "    CREATE TABLE IF NOT EXISTS students (\n",
    "        id INTEGER PRIMARY KEY AUTOINCREMENT,\n",
    "        name TEXT NOT NULL,\n",
    "        age INTEGER NOT NULL\n",
    "    )\n",
    "''')\n",
    "\n",
    "connection.commit()"
   ]
  },
  {
   "cell_type": "markdown",
   "id": "71391f49-328b-4a87-97db-caf4ea3d92e0",
   "metadata": {},
   "source": [
    "## CRUD Operations"
   ]
  },
  {
   "cell_type": "markdown",
   "id": "2fa90bf7-45dd-462e-a128-9fd7e2f79124",
   "metadata": {},
   "source": [
    "### Create (Insertion)"
   ]
  },
  {
   "cell_type": "code",
   "execution_count": 5,
   "id": "0479ba8f-8746-4fec-906e-e2275f6b6f39",
   "metadata": {},
   "outputs": [
    {
     "name": "stdout",
     "output_type": "stream",
     "text": [
      "Record added successfully!\n",
      "Record added successfully!\n"
     ]
    }
   ],
   "source": [
    "def create_student(name, age):\n",
    "    cursor.execute('''\n",
    "        INSERT INTO students (name, age) \n",
    "        VALUES (?, ?)\n",
    "    ''', (name, age))\n",
    "    connection.commit()\n",
    "    print(\"Record added successfully!\")\n",
    "\n",
    "create_student(\"Griffith\", 20)\n",
    "create_student(\"Guts\", 22)"
   ]
  },
  {
   "cell_type": "markdown",
   "id": "0a944a64-08ae-4960-a45e-d14d802069ba",
   "metadata": {},
   "source": [
    "### Read (Retrieve)"
   ]
  },
  {
   "cell_type": "code",
   "execution_count": 6,
   "id": "4c0471b8-be0d-4a8a-8819-1b0c56e1e156",
   "metadata": {},
   "outputs": [
    {
     "name": "stdout",
     "output_type": "stream",
     "text": [
      "Student Records:\n",
      "(1, 'Griffith', 21)\n",
      "(3, 'Griffith', 20)\n",
      "(4, 'Guts', 22)\n"
     ]
    }
   ],
   "source": [
    "def read_students():\n",
    "    cursor.execute('SELECT * FROM students')\n",
    "    rows = cursor.fetchall()\n",
    "    print(\"Student Records:\")\n",
    "    for row in rows:\n",
    "        print(row)\n",
    "\n",
    "read_students()"
   ]
  },
  {
   "cell_type": "markdown",
   "id": "02abf5f1-0c2a-4c8b-b53b-02062d07a38b",
   "metadata": {},
   "source": [
    "### Update"
   ]
  },
  {
   "cell_type": "code",
   "execution_count": 7,
   "id": "42220537-3609-4ddd-91e7-b9ec22b8ea8c",
   "metadata": {},
   "outputs": [
    {
     "name": "stdout",
     "output_type": "stream",
     "text": [
      "Student age updated successfully!\n",
      "Student Records:\n",
      "(1, 'Griffith', 21)\n",
      "(3, 'Griffith', 20)\n",
      "(4, 'Guts', 22)\n"
     ]
    }
   ],
   "source": [
    "def update_student_age(student_id, new_age):\n",
    "    cursor.execute('''\n",
    "     UPDATE students SET age = ? WHERE id = ?\n",
    "    ''', (new_age, student_id))\n",
    "    connection.commit()\n",
    "    print(\"Student age updated successfully!\")\n",
    "\n",
    "update_student_age(1, 21)  # Updating Alice's age to 21\n",
    "read_students()"
   ]
  },
  {
   "cell_type": "markdown",
   "id": "fcd71fb4-1855-4fdd-ab19-c56423c6978b",
   "metadata": {},
   "source": [
    "### Delete"
   ]
  },
  {
   "cell_type": "code",
   "execution_count": 9,
   "id": "18c5c829-2971-408d-8154-4809e6974b7f",
   "metadata": {},
   "outputs": [
    {
     "name": "stdout",
     "output_type": "stream",
     "text": [
      "Student deleted successfully!\n",
      "Student Records:\n",
      "(1, 'Griffith', 21)\n",
      "(3, 'Griffith', 20)\n",
      "(4, 'Guts', 22)\n"
     ]
    }
   ],
   "source": [
    "def delete_student(student_id):\n",
    "    cursor.execute('''\n",
    "        DELETE FROM students WHERE id = ?\n",
    "    ''', (student_id,))\n",
    "    connection.commit()\n",
    "    print(\"Student deleted successfully!\")\n",
    "delete_student(2)\n",
    "read_students()\n"
   ]
  },
  {
   "cell_type": "markdown",
   "id": "6167fd97-2d14-4c84-87e1-f5b55a921c22",
   "metadata": {},
   "source": [
    "### Closing the database connection"
   ]
  },
  {
   "cell_type": "code",
   "execution_count": 11,
   "id": "04c08be7-55b4-476e-a2bf-daefe6ee2f81",
   "metadata": {},
   "outputs": [],
   "source": [
    "connection.close ()"
   ]
  },
  {
   "cell_type": "code",
   "execution_count": null,
   "id": "7545c66d-425b-4efc-9704-643f5546f446",
   "metadata": {},
   "outputs": [],
   "source": []
  }
 ],
 "metadata": {
  "kernelspec": {
   "display_name": "Python 3 (ipykernel)",
   "language": "python",
   "name": "python3"
  },
  "language_info": {
   "codemirror_mode": {
    "name": "ipython",
    "version": 3
   },
   "file_extension": ".py",
   "mimetype": "text/x-python",
   "name": "python",
   "nbconvert_exporter": "python",
   "pygments_lexer": "ipython3",
   "version": "3.13.1"
  }
 },
 "nbformat": 4,
 "nbformat_minor": 5
}
