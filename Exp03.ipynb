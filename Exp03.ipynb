{
 "cells": [
  {
   "cell_type": "markdown",
   "id": "92f58da6-4639-4877-a1b8-943087dc606e",
   "metadata": {},
   "source": [
    "### Exp03.Shifa "
   ]
  },
  {
   "cell_type": "code",
   "execution_count": 1,
   "id": "ed5f5437-4ef8-46fe-8449-8baaddb71096",
   "metadata": {},
   "outputs": [
    {
     "name": "stdout",
     "output_type": "stream",
     "text": [
      "Lines: 4\n",
      "Words: 21\n",
      "Characters: 124\n"
     ]
    }
   ],
   "source": [
    "if __name__ == '__main__':\n",
    "    with open ('./file.txt', 'r') as file:\n",
    "        lines = file.readlines ()\n",
    "        numberOfLines = len (lines)\n",
    "        numberOfWords = sum (len (line.split()) for line in lines)\n",
    "        \n",
    "        # Write numberOfCharacters over here.\n",
    "        numberOfCharacters = sum(len(line) for line in lines)\n",
    "        \n",
    "    print(f\"Lines: {numberOfLines}\")\n",
    "    print(f\"Words: {numberOfWords}\")\n",
    "    print(f\"Characters: {numberOfCharacters}\")"
   ]
  }
 ],
 "metadata": {
  "kernelspec": {
   "display_name": "Python 3",
   "language": "python",
   "name": "python3"
  },
  "language_info": {
   "codemirror_mode": {
    "name": "ipython",
    "version": 3
   },
   "file_extension": ".py",
   "mimetype": "text/x-python",
   "name": "python",
   "nbconvert_exporter": "python",
   "pygments_lexer": "ipython3",
   "version": "3.11.9"
  }
 },
 "nbformat": 4,
 "nbformat_minor": 5
}
