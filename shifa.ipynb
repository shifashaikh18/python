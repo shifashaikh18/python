{
  "metadata": {
    "kernelspec": {
      "name": "python",
      "display_name": "Python (Pyodide)",
      "language": "python"
    },
    "language_info": {
      "codemirror_mode": {
        "name": "python",
        "version": 3
      },
      "file_extension": ".py",
      "mimetype": "text/x-python",
      "name": "python",
      "nbconvert_exporter": "python",
      "pygments_lexer": "ipython3",
      "version": "3.8"
    }
  },
  "nbformat_minor": 5,
  "nbformat": 4,
  "cells": [
    {
      "id": "3c580924-f22c-4e75-b893-dcde169f13e6",
      "cell_type": "markdown",
      "source": "  ### \"Strings in Python\"",
      "metadata": {}
    },
    {
      "id": "eea7991b-18a3-4fd7-9faa-a39cbd30d609",
      "cell_type": "code",
      "source": "# Assigning string to a variable\na = 'This is a string'\nprint (a)\nb = \"This is a string\"\nprint (b)\nc= '''This is a string'''\nprint (c)",
      "metadata": {
        "trusted": true
      },
      "outputs": [
        {
          "name": "stdout",
          "output_type": "stream",
          "text": "This is a string\nThis is a string\nThis is a string\n"
        }
      ],
      "execution_count": 5
    },
    {
      "id": "6de6d6a6-1e59-41f6-b716-a44ca940a178",
      "cell_type": "markdown",
      "source": "### Lists in Python",
      "metadata": {}
    },
    {
      "id": "77bbf6eb-c52e-4d32-886a-18d2bbcf5ad6",
      "cell_type": "code",
      "source": "# Declaring a list\nL = [1, \"a\" , \"string\" , 1+2]\nprint (L)\n#Adding an element in the list\nL.append(6) \nprint (L)\n#Deleting last element from a list\nL.pop()\nprint (L)\n#Displaying Second element of the list\nprint (L[1])",
      "metadata": {
        "trusted": true
      },
      "outputs": [
        {
          "name": "stdout",
          "output_type": "stream",
          "text": "[1, 'a', 'string', 3]\n[1, 'a', 'string', 3, 6]\n[1, 'a', 'string', 3]\na\n"
        }
      ],
      "execution_count": 6
    },
    {
      "id": "a25d2566-c25c-4f6f-a12e-7984cbbf8eed",
      "cell_type": "markdown",
      "source": " ### Tuples in Python",
      "metadata": {}
    },
    {
      "id": "12b28d6f-c9d7-4b0e-b325-7884a3f16510",
      "cell_type": "code",
      "source": "tup = (1, \"a\", \"string\", 1+2)\nprint(tup)\nprint(tup[1])",
      "metadata": {
        "trusted": true
      },
      "outputs": [
        {
          "name": "stdout",
          "output_type": "stream",
          "text": "(1, 'a', 'string', 3)\na\n"
        }
      ],
      "execution_count": 8
    },
    {
      "id": "95c6f248-4c7f-4b9e-9892-d9f82009e2f5",
      "cell_type": "markdown",
      "source": "### Dictionaries in Python",
      "metadata": {}
    },
    {
      "id": "89fce846-4983-47b3-b3ba-253d6befd030",
      "cell_type": "code",
      "source": "d = {1: 'Lorem', 2: 'Ipsum', 3: 'Dolerum'}\nprint(d)",
      "metadata": {
        "trusted": true
      },
      "outputs": [
        {
          "name": "stdout",
          "output_type": "stream",
          "text": "{1: 'Lorem', 2: 'Ipsum', 3: 'Dolerum'}\n"
        }
      ],
      "execution_count": 9
    },
    {
      "id": "da7a23f3-6c25-43dc-987e-474f7dbc80da",
      "cell_type": "markdown",
      "source": "#### Create a Dictionary",
      "metadata": {}
    },
    {
      "id": "1fd8576a-5c08-44fb-a7d1-be4ac6bf6b25",
      "cell_type": "code",
      "source": "# create dictionary using { }\nd1 = {1: 'Game', 2: 'of', 3: 'Thrones'}\nprint(d1)\n\n# create dictionary using dict() constructor\nd2 = dict(a = \"House\", b = \"of\", c = \"Cards\")\nprint(d2)",
      "metadata": {
        "trusted": true
      },
      "outputs": [
        {
          "name": "stdout",
          "output_type": "stream",
          "text": "{1: 'Game', 2: 'of', 3: 'Thrones'}\n{'a': 'House', 'b': 'of', 'c': 'Cards'}\n"
        }
      ],
      "execution_count": 10
    },
    {
      "id": "18dc8092-146c-4dc9-877f-04dd6a5f5b0e",
      "cell_type": "markdown",
      "source": "#### Accessing Dictionary Items",
      "metadata": {}
    },
    {
      "id": "999bb7a3-3c19-4b9a-ac69-5d750021f6dc",
      "cell_type": "code",
      "source": "d = { \"name\": \"Alice\", 1: \"Python\", (1, 2): [1,2,4] }\n\n# Access using key\nprint(d[\"name\"])\n\n# Access using get()\nprint(d.get(\"name\"))",
      "metadata": {
        "trusted": true
      },
      "outputs": [
        {
          "name": "stdout",
          "output_type": "stream",
          "text": "Alice\nAlice\n"
        }
      ],
      "execution_count": 11
    },
    {
      "id": "75dcdb3f-8eb5-4094-9e37-23418ee855d1",
      "cell_type": "markdown",
      "source": "#### Adding and Updating Dictionary Items",
      "metadata": {}
    },
    {
      "id": "36168dd7-af05-4e9f-9303-6dddb95e3d79",
      "cell_type": "code",
      "source": "d = {1: 'Game', 2: 'of', 3: 'Thrones'}\n\n# Adding a new key-value pair\nd[\"age\"] = 22\n\n# Updating an existing value\nd[1] = \"Python dict\"\n\nprint(d)",
      "metadata": {
        "trusted": true
      },
      "outputs": [
        {
          "name": "stdout",
          "output_type": "stream",
          "text": "{1: 'Python dict', 2: 'of', 3: 'Thrones', 'age': 22}\n"
        }
      ],
      "execution_count": 12
    },
    {
      "id": "85289501-6860-43bb-a445-5b7a889d9cc4",
      "cell_type": "markdown",
      "source": "### deleting the dictionary items",
      "metadata": {}
    },
    {
      "id": "74c7f5f7-b137-43c4-b4c2-a27d357a07ae",
      "cell_type": "markdown",
      "source": "### 1. deleting value using del keyword",
      "metadata": {}
    },
    {
      "id": "90250381-a417-4808-b22c-fdc220529f90",
      "cell_type": "code",
      "source": "d = {1: 'Lorem', 2: 'Ipsum', 3: 'Dolerum'}\n\n# Deleting the key-value pair where key is 2\ndel d[2]\n\nprint(d)",
      "metadata": {
        "trusted": true
      },
      "outputs": [
        {
          "name": "stdout",
          "output_type": "stream",
          "text": "{1: 'Lorem', 3: 'Dolerum'}\n"
        }
      ],
      "execution_count": 18
    },
    {
      "id": "a91a40ed-fce9-48f5-bf15-f2d9b9f70ccc",
      "cell_type": "markdown",
      "source": "### 2. deleting value using pop keyword",
      "metadata": {}
    },
    {
      "id": "f47a6657-801f-44b8-94c1-cd62c7f14602",
      "cell_type": "code",
      "source": "d = {1: 'Lorem', 2: 'Ipsum', 3: 'Dolerum'}\n\n# Remove the key-value pair and get the value\nvalue = d.pop(2)\n\nprint(d)    \nprint(value) ",
      "metadata": {
        "trusted": true
      },
      "outputs": [
        {
          "name": "stdout",
          "output_type": "stream",
          "text": "{1: 'Lorem', 3: 'Dolerum'}\nIpsum\n"
        }
      ],
      "execution_count": 20
    },
    {
      "id": "f1409100-b989-4f64-9374-a819b96aea73",
      "cell_type": "markdown",
      "source": "### 3. deleing using clear keyword",
      "metadata": {}
    },
    {
      "id": "3941a232-91d9-4375-a953-ed087c3c03f6",
      "cell_type": "code",
      "source": "d = {1: 'Lorem', 2: 'Ipsum', 3: 'Dolerum'}\n\n# Remove all items from the dictionary\nd.clear()\n\nprint(d) ",
      "metadata": {
        "trusted": true
      },
      "outputs": [
        {
          "name": "stdout",
          "output_type": "stream",
          "text": "{}\n"
        }
      ],
      "execution_count": 22
    },
    {
      "id": "5b4f76f8-27d4-44ea-898f-9ad9594cbed4",
      "cell_type": "code",
      "source": "",
      "metadata": {
        "trusted": true
      },
      "outputs": [],
      "execution_count": null
    }
  ]
}