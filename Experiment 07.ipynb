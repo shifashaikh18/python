{
 "cells": [
  {
   "cell_type": "markdown",
   "id": "b9aad1cd-5a07-4c78-abb7-dc3a793bfead",
   "metadata": {},
   "source": [
    "### Shifa Shaikh 74\n",
    "\n",
    "## Exp no 07"
   ]
  },
  {
   "cell_type": "code",
   "execution_count": 1,
   "id": "baa6e2e0-6431-4930-93d7-fe723fbc587d",
   "metadata": {},
   "outputs": [
    {
     "name": "stdout",
     "output_type": "stream",
     "text": [
      "Message Recieved\n",
      "Message Recieved\n"
     ]
    }
   ],
   "source": [
    "import socket\n",
    "\n",
    "PORT = 5050\n",
    "#SERVER = ''\n",
    "SERVER = socket.gethostbyname (socket.gethostname ())\n",
    "ADDR = (SERVER, PORT)\n",
    "FORMAT = 'utf-8'\n",
    "HEADER = 64\n",
    "DISCONNECT_MESSAGE = '!DISCONNECT'\n",
    "\n",
    "client = socket.socket (socket.AF_INET, socket.SOCK_STREAM)\n",
    "client.connect (ADDR)\n",
    "\n",
    "def send (messages):\n",
    "    message = messages.encode (FORMAT)\n",
    "    messageLength = len (message)\n",
    "    sendLength = str (messageLength).encode (FORMAT)\n",
    "    sendLength += b' ' * (HEADER - len (sendLength))\n",
    "    client.send (sendLength)\n",
    "    client.send (message)\n",
    "    print (client.recv (2045).decode (FORMAT))\n",
    "\n",
    "if __name__ == '__main__':\n",
    "    send ('Hello World')\n",
    "    send (DISCONNECT_MESSAGE)"
   ]
  },
  {
   "cell_type": "code",
   "execution_count": null,
   "id": "9c76b620-6abc-42d8-8fe4-baef6de5b454",
   "metadata": {},
   "outputs": [
    {
     "name": "stdout",
     "output_type": "stream",
     "text": [
      "[SERVER STARTING] server has been started\n",
      "[LISTENING] Server is listening on 192.168.75.1\n"
     ]
    }
   ],
   "source": [
    "import socket, threading\n",
    "\n",
    "PORT = 5050\n",
    "SERVER = socket.gethostbyname (socket.gethostname ())\n",
    "ADDR = (SERVER, PORT)\n",
    "FORMAT = 'utf-8'\n",
    "HEADER = 64\n",
    "DISCONNECT_MESSAGE = '!DISCONNECT'\n",
    "\n",
    "server = socket.socket (socket.AF_INET, socket.SOCK_STREAM)\n",
    "server.bind (ADDR)\n",
    "\n",
    "def clientHandling (connection, address):\n",
    "    print (f'[NEW CONNECTION] {address} connected')\n",
    "    isConnected = True\n",
    "    while isConnected:\n",
    "        messageLength = connection.recv (HEADER).decode (FORMAT)\n",
    "        if messageLength:\n",
    "            messageLength = int (messageLength)\n",
    "            message = connection.recv (messageLength).decode (FORMAT)\n",
    "            if message == DISCONNECT_MESSAGE:\n",
    "                isConnected = False\n",
    "            print (f'[{address}] {message}')\n",
    "            connection.send ('Message Recieved'.encode (FORMAT))\n",
    "    connection.close ()\n",
    "\n",
    "def start ():\n",
    "    server.listen ()\n",
    "    print (f'[LISTENING] Server is listening on {SERVER}')\n",
    "    while True:\n",
    "        connection, address = server.accept ()\n",
    "        thread = threading.Thread (target=clientHandling, args=(connection, address))\n",
    "        thread.start ()\n",
    "        print (f'[ACTIVE CONNECTION] {threading.active_count () - 1}')\n",
    "\n",
    "print ('[SERVER STARTING] server has been started')\n",
    "start ()"
   ]
  },
  {
   "cell_type": "code",
   "execution_count": null,
   "id": "45097d28-5705-45b8-85a9-93520e684826",
   "metadata": {},
   "outputs": [],
   "source": []
  }
 ],
 "metadata": {
  "kernelspec": {
   "display_name": "Python 3 (ipykernel)",
   "language": "python",
   "name": "python3"
  },
  "language_info": {
   "codemirror_mode": {
    "name": "ipython",
    "version": 3
   },
   "file_extension": ".py",
   "mimetype": "text/x-python",
   "name": "python",
   "nbconvert_exporter": "python",
   "pygments_lexer": "ipython3",
   "version": "3.12.7"
  }
 },
 "nbformat": 4,
 "nbformat_minor": 5
}
