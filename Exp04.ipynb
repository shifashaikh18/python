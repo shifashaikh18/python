{
  "cells": [
    {
      "cell_type": "markdown",
      "id": "070316c1-f4af-4e1c-8d40-3346b5a27476",
      "metadata": {},
      "source": [
        "### Shifa 74"
      ]
    },
    {
      "cell_type": "markdown",
      "id": "3158e28d-b2ce-468f-a148-a0047399984c",
      "metadata": {},
      "source": [
        "### Exp 04"
      ]
    },
    {
      "cell_type": "code",
      "execution_count": 1,
      "id": "4fc84107-5a8a-4a64-876a-3f6328de5e04",
      "metadata": {
        "trusted": true
      },
      "outputs": [
        {
          "name": "stdout",
          "output_type": "stream",
          "text": [
            "Files in the current directory:\n",
            "Exp3.ipynb\n",
            "Exp4.ipynb\n",
            "Intro.ipynb\n",
            "Untitled1.ipynb\n",
            "Lorenz.ipynb\n",
            "sqlite.ipynb\n"
          ]
        }
      ],
      "source": [
        "from pathlib import Path\n",
        "\n",
        "current_directory = Path('.')\n",
        "\n",
        "files = [f for f in current_directory.iterdir() if f.is_file()]\n",
        "\n",
        "print(\"Files in the current directory:\")\n",
        "for file in files:\n",
        "    print(file.name)"
      ]
    }
  ],
  "metadata": {
    "kernelspec": {
      "display_name": "Python (Pyodide)",
      "language": "python",
      "name": "python"
    },
    "language_info": {
      "codemirror_mode": {
        "name": "python",
        "version": 3
      },
      "file_extension": ".py",
      "mimetype": "text/x-python",
      "name": "python",
      "nbconvert_exporter": "python",
      "pygments_lexer": "ipython3",
      "version": "3.8"
    }
  },
  "nbformat": 4,
  "nbformat_minor": 5
}
